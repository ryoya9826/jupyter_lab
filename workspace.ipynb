{
 "cells": [
  {
   "cell_type": "code",
   "execution_count": 75,
   "id": "9fd859f8-a08d-47b2-bf72-1dcc5f1cc364",
   "metadata": {
    "tags": []
   },
   "outputs": [
    {
     "data": {
      "application/vnd.jupyter.widget-view+json": {
       "model_id": "61905daebf184653bba7b0fcabff2d4a",
       "version_major": 2,
       "version_minor": 0
      },
      "text/plain": [
       "Textarea(value='')"
      ]
     },
     "metadata": {},
     "output_type": "display_data"
    }
   ],
   "source": [
    "from ipywidgets import Textarea\n",
    "import io\n",
    "\n",
    "if 'open' in globals():\n",
    "    del open\n",
    "if 'input' in globals():\n",
    "    del input\n",
    "\n",
    "original_open = open\n",
    "\n",
    "class custom_open():\n",
    "    def __init__(self):\n",
    "        self.text = ''\n",
    "\n",
    "    def __call__(self, file, *args, **kwargs):\n",
    "        if file == 0:\n",
    "            return io.StringIO(self.text)\n",
    "        return original_open(file, *args, **kwargs)\n",
    "\n",
    "    def updater(self, change):\n",
    "        self.text = change[\"new\"]\n",
    "\n",
    "class custom_input():\n",
    "    def __init__(self):\n",
    "        self.__sio = io.StringIO('')\n",
    "        self.shell = get_ipython()\n",
    "        if self.shell.events.callbacks['pre_run_cell'] != []:\n",
    "            self.shell.events.callbacks['pre_run_cell'] = []\n",
    "        self.shell.events.register('pre_run_cell', self.pre_run_cell)\n",
    "\n",
    "    def __call__(self):\n",
    "        return self.__sio.readline().strip()\n",
    "\n",
    "    def pre_run_cell(self, info):\n",
    "        text = self.shell.user_ns.get('text_area', None).value\n",
    "        self.__sio = io.StringIO(text)\n",
    "\n",
    "open = custom_open()\n",
    "input = custom_input()\n",
    "\n",
    "text_area = Textarea()\n",
    "text_area.observe(open.updater, names='value')\n",
    "display(text_area)"
   ]
  },
  {
   "cell_type": "code",
   "execution_count": 144,
   "id": "c96f85c0-b89a-4518-9a91-120353d0912a",
   "metadata": {
    "tags": []
   },
   "outputs": [
    {
     "name": "stdout",
     "output_type": "stream",
     "text": [
      "defaultdict(<class 'list'>, {0: [1], 1: [0, 2], 2: [1, 3, 4], 3: [2], 4: [2, 5, 6], 5: [4], 6: [4, 7], 7: [6]})\n",
      "defaultdict(<class 'list'>, {0: [1, 2], 1: [0, 3], 2: [0, 3], 3: [1, 2]})\n",
      "defaultdict(<class 'list'>, {0: [1, 3], 1: [0, 3], 2: [4], 3: [0, 1], 4: [2]})\n",
      "defaultdict(<class 'list'>, {0: [1, 4], 1: [0, 2, 3, 4], 2: [1, 3], 3: [1, 2, 4], 4: [0, 1, 3]})\n",
      "defaultdict(<class 'list'>, {0: [1, 3], 1: [0, 2, 3], 2: [1, 4], 3: [0, 1, 4], 4: [2, 3]})\n",
      "defaultdict(<class 'list'>, {0: [1, 3, 4], 1: [0, 2, 4], 2: [1, 3], 3: [0, 2, 4], 4: [0, 1, 3]})\n"
     ]
    }
   ],
   "source": [
    "from collections import defaultdict, deque\n",
    "Q = int(input())\n",
    "for _ in range(Q):\n",
    "    N = int(input())\n",
    "    G = defaultdict(list)\n",
    "    for i in range(N):\n",
    "        for j,x in enumerate(map(int,input().split())):\n",
    "            if x == 1:\n",
    "                G[i].append(j)\n",
    "    a,b = map(int,input().split())\n",
    "    print(G)"
   ]
  },
  {
   "cell_type": "code",
   "execution_count": null,
   "id": "b76c4b58-4a43-4bf1-abec-6a1b59241895",
   "metadata": {},
   "outputs": [],
   "source": []
  }
 ],
 "metadata": {
  "kernelspec": {
   "display_name": "Python 3 (ipykernel)",
   "language": "python",
   "name": "python3"
  },
  "language_info": {
   "codemirror_mode": {
    "name": "ipython",
    "version": 3
   },
   "file_extension": ".py",
   "mimetype": "text/x-python",
   "name": "python",
   "nbconvert_exporter": "python",
   "pygments_lexer": "ipython3",
   "version": "3.11.4"
  }
 },
 "nbformat": 4,
 "nbformat_minor": 5
}
