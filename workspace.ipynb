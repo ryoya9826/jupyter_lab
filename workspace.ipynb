{
 "cells": [
  {
   "cell_type": "code",
   "execution_count": 1,
   "id": "9fd859f8-a08d-47b2-bf72-1dcc5f1cc364",
   "metadata": {
    "tags": []
   },
   "outputs": [
    {
     "data": {
      "application/vnd.jupyter.widget-view+json": {
       "model_id": "8720b101451e4d3897c827f009742976",
       "version_major": 2,
       "version_minor": 0
      },
      "text/plain": [
       "Textarea(value='')"
      ]
     },
     "metadata": {},
     "output_type": "display_data"
    }
   ],
   "source": [
    "from ipywidgets import Textarea\n",
    "import io\n",
    "\n",
    "if 'open' in globals():\n",
    "    del open\n",
    "if 'input' in globals():\n",
    "    del input\n",
    "\n",
    "original_open = open\n",
    "\n",
    "class custom_open():\n",
    "    def __init__(self):\n",
    "        self.text = ''\n",
    "\n",
    "    def __call__(self, file, *args, **kwargs):\n",
    "        if file == 0:\n",
    "            return io.StringIO(self.text)\n",
    "        return original_open(file, *args, **kwargs)\n",
    "\n",
    "    def updater(self, change):\n",
    "        self.text = change[\"new\"]\n",
    "\n",
    "class custom_input():\n",
    "    def __init__(self):\n",
    "        self.__sio = io.StringIO('')\n",
    "        self.shell = get_ipython()\n",
    "        if self.shell.events.callbacks['pre_run_cell'] != []:\n",
    "            self.shell.events.callbacks['pre_run_cell'] = []\n",
    "        self.shell.events.register('pre_run_cell', self.pre_run_cell)\n",
    "\n",
    "    def __call__(self):\n",
    "        return self.__sio.readline().strip()\n",
    "\n",
    "    def pre_run_cell(self, info):\n",
    "        text = self.shell.user_ns.get('text_area', None).value\n",
    "        self.__sio = io.StringIO(text)\n",
    "\n",
    "open = custom_open()\n",
    "input = custom_input()\n",
    "\n",
    "text_area = Textarea()\n",
    "text_area.observe(open.updater, names='value')\n",
    "display(text_area)"
   ]
  },
  {
   "cell_type": "code",
   "execution_count": 101,
   "id": "5d9ed73f-87e3-4786-ad24-6934727acfea",
   "metadata": {},
   "outputs": [
    {
     "name": "stdout",
     "output_type": "stream",
     "text": [
      "Yes\n"
     ]
    }
   ],
   "source": [
    "from collections import defaultdict,deque\n",
    "H,W = map(int,input().split())\n",
    "A = [list(input()) for _ in range(H)]\n",
    "G = defaultdict(list)\n",
    "dxy = [(1,0),(0,1),(-1,0),(0,-1)]\n",
    "snuke = 'snuke'\n",
    "def solve():\n",
    "    if A[0][0] != 's':\n",
    "        return 'No'\n",
    "    if A[H-1][W-1] not in snuke:\n",
    "        return 'No'\n",
    "    for i in range(H):\n",
    "        for j in range(W):\n",
    "            s = A[i][j] \n",
    "            k = snuke.find(s)\n",
    "            if k != -1:\n",
    "                for dy,dx in dxy:\n",
    "                    if 0 <= i+dy < H and 0 <= j+dx < W:\n",
    "                        if A[i+dy][j+dx] == snuke[(k+1)%5]:\n",
    "                            G[(i,j)].append((i+dy,j+dx))\n",
    "    q = deque()\n",
    "    q.append((0,0))\n",
    "    vis = {(0,0)}\n",
    "    while q:\n",
    "        now = q.popleft()\n",
    "        for nxt in G[now]:\n",
    "            if nxt == (H-1,W-1):\n",
    "                return 'Yes'\n",
    "            if nxt not in vis:\n",
    "                vis.add(nxt)\n",
    "                q.append(nxt)\n",
    "    return 'No'\n",
    "print(solve())"
   ]
  },
  {
   "cell_type": "code",
   "execution_count": 6,
   "id": "61321f7b-12b9-4d34-9e6f-7d0131af1d91",
   "metadata": {},
   "outputs": [
    {
     "name": "stdout",
     "output_type": "stream",
     "text": [
      "3000\n",
      "67108864\n",
      "0 5\n",
      "1 13\n",
      "2 29\n",
      "3 61\n",
      "4 125\n",
      "5 253\n",
      "6 509\n",
      "7 1021\n",
      "8 2045\n",
      "9 4093\n",
      "13\n",
      "65533\n"
     ]
    }
   ],
   "source": [
    "import sys\n",
    "import threading\n",
    "\n",
    "#変更前の再帰関数の実行回数の上限を表示\n",
    "print(sys.getrecursionlimit())\n",
    "\n",
    "sys.setrecursionlimit(67108864) #64MB\n",
    "threading.stack_size(1024*1024)  #2の20乗のstackを確保=メモリの確保\n",
    "\n",
    "#変更後の再帰関数の実行回数の上限を表示\n",
    "print(sys.getrecursionlimit())\n",
    "\n",
    "from collections import defaultdict\n",
    "\n",
    "from functools import lru_cache\n",
    "\n",
    "@lru_cache(maxsize=1000)\n",
    "def f(x,y):\n",
    "    if x == 0:\n",
    "        return y+1\n",
    "    elif y == 0:\n",
    "        return f(x-1,1)\n",
    "    else:\n",
    "        return f(x-1,f(x,y-1))\n",
    "        \n",
    "for i in range(10):\n",
    "    print(i,f(3,i))\n",
    "print(f(4,0))\n",
    "print(f(4,1))\n",
    "#print(f(4,2))\n",
    "#print(f(4,3))"
   ]
  },
  {
   "cell_type": "code",
   "execution_count": null,
   "id": "e8b9e835-f286-4f8d-bfbb-6aac78d46d6c",
   "metadata": {},
   "outputs": [],
   "source": []
  },
  {
   "cell_type": "code",
   "execution_count": null,
   "id": "56199765-b90a-41c3-886f-e274cefc9703",
   "metadata": {},
   "outputs": [],
   "source": [
    "A,B,X = map(int,input().split())\n",
    "ans = 0\n",
    "for i in range(10**9):\n",
    "    if A*N+B*len(str(N)) <= X:\n",
    "        if N > ans:\n",
    "            ans = N\n",
    "print(ans)"
   ]
  },
  {
   "cell_type": "code",
   "execution_count": 50,
   "id": "372f8e7a-c727-4b90-a3fb-ab69a0d9005a",
   "metadata": {},
   "outputs": [
    {
     "name": "stdout",
     "output_type": "stream",
     "text": [
      "111\n"
     ]
    }
   ],
   "source": [
    "import itertools\n",
    "from collections import defaultdict\n",
    "N = int(input())\n",
    "A = [list(map(int,input().split())) for _ in range(N)]\n",
    "M = int(input())\n",
    "d = defaultdict(set)\n",
    "for _ in range(M):\n",
    "    x,y = map(int,input().split())\n",
    "    d[x].add(y)\n",
    "    d[y].add(x)\n",
    "ans = float('inf')\n",
    "for p in itertools.permutations(range(1,N+1)):\n",
    "    cnt = 0\n",
    "    for i,x in enumerate(p): # x が i 番目に走る\n",
    "        if i == 0:\n",
    "            y = p[i+1]\n",
    "            z = y\n",
    "        elif i == N-1:\n",
    "            y = p[i-1]\n",
    "            z = y\n",
    "        else:\n",
    "            y = p[i-1]\n",
    "            z = p[i+1]\n",
    "        if y in d[x] or z in d[x]:\n",
    "            break\n",
    "        cnt += A[x-1][i]\n",
    "    else:\n",
    "        ans = min(ans,cnt)\n",
    "if ans == float('inf'):\n",
    "    ans = -1\n",
    "print(ans)"
   ]
  }
 ],
 "metadata": {
  "kernelspec": {
   "display_name": "Python 3 (ipykernel)",
   "language": "python",
   "name": "python3"
  },
  "language_info": {
   "codemirror_mode": {
    "name": "ipython",
    "version": 3
   },
   "file_extension": ".py",
   "mimetype": "text/x-python",
   "name": "python",
   "nbconvert_exporter": "python",
   "pygments_lexer": "ipython3",
   "version": "3.11.4"
  }
 },
 "nbformat": 4,
 "nbformat_minor": 5
}
