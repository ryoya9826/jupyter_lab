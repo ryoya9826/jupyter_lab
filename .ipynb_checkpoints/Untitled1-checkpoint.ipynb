{
 "cells": [
  {
   "cell_type": "code",
   "execution_count": 1,
   "id": "921282b4-b9c4-4158-a345-ef5fc0018580",
   "metadata": {},
   "outputs": [],
   "source": [
    "import openai\n",
    "import os\n",
    "import datetime\n",
    "dt = str(datetime.datetime.now()).split()[0]\n",
    "path =  \"log/\" + dt + \".log\"\n",
    "openai.api_key = os.getenv(\"OPENAI_API_KEY\")\n"
   ]
  },
  {
   "cell_type": "code",
   "execution_count": 2,
   "id": "04467749-c6fe-40a4-96b9-f3cde8bae3ab",
   "metadata": {},
   "outputs": [],
   "source": [
    "from llama_index import download_loader\n",
    " \n",
    "loader = download_loader(\"CJKPDFReader\")\n",
    "docs = loader().load_data(file=\"/Users/andoryoya/Downloads/情報模試/資料/教科書/1-1.pdf\")\n"
   ]
  },
  {
   "cell_type": "code",
   "execution_count": 14,
   "id": "fbcd3578-c14e-4ea0-a9bb-52cf1ad48dfd",
   "metadata": {},
   "outputs": [],
   "source": [
    "from llama_index import GPTVectorStoreIndex, ServiceContext\n",
    "from llama_index.llms import OpenAI\n",
    " \n",
    "llm = OpenAI(model='gpt-4', temperature=0, max_tokens=1024)\n",
    "service_context = ServiceContext.from_defaults(llm=llm)\n",
    "index = GPTVectorStoreIndex.from_documents(docs, service_context=service_context)\n",
    "index.storage_context.persist()\n",
    "query_engine = index.as_query_engine()"
   ]
  },
  {
   "cell_type": "code",
   "execution_count": 9,
   "id": "410bc210-7c59-4dbb-9d78-8abb28385b1b",
   "metadata": {},
   "outputs": [
    {
     "name": "stdout",
     "output_type": "stream",
     "text": [
      "StorageContext(docstore=<llama_index.storage.docstore.simple_docstore.SimpleDocumentStore object at 0x131160750>, index_store=<llama_index.storage.index_store.simple_index_store.SimpleIndexStore object at 0x131750850>, vector_store=<llama_index.vector_stores.simple.SimpleVectorStore object at 0x12eca84d0>, graph_store=<llama_index.graph_stores.simple.SimpleGraphStore object at 0x12dc35910>)\n"
     ]
    }
   ],
   "source": [
    "storage_context = StorageContext.from_defaults(persist_dir=\"./storage\")\n",
    "print(storage_context)"
   ]
  },
  {
   "cell_type": "code",
   "execution_count": 8,
   "id": "4da7849d-0c87-4adc-b8f7-1ddcf8a41034",
   "metadata": {},
   "outputs": [],
   "source": [
    "from llama_index import StorageContext, load_index_from_storage\n",
    "#storage_context = StorageContext.from_defaults(persist_dir=\"./storage\")\n",
    "#index = load_index_from_storage(storage_context)"
   ]
  },
  {
   "cell_type": "code",
   "execution_count": 8,
   "id": "9e10f7de-f928-4ff6-8ff1-267210c2ddaa",
   "metadata": {},
   "outputs": [
    {
     "name": "stdout",
     "output_type": "stream",
     "text": [
      "情報の価値と検証に関する問題:\n",
      "\n",
      "次のうち、情報の検証に最も効果的な方法はどれですか？\n",
      "\n",
      "A. 情報源が見た目で信頼できそうだと判断する\n",
      "B. 情報を一つの情報源だけで確認する\n",
      "C. クロスチェックを行い、複数の情報源で情報を確認する\n",
      "D. 情報が面白そうだと感じたら、それを信じる\n"
     ]
    }
   ],
   "source": [
    "query = \"情報の価値と検証に関する問題を作ってみてください。４択問題です。迷わせる選択肢を意識してください。\"\n",
    "response = query_engine.query(query)\n",
    "print(response)"
   ]
  },
  {
   "cell_type": "code",
   "execution_count": 15,
   "id": "4bf62609-6a09-4841-8c95-782ec8701684",
   "metadata": {},
   "outputs": [
    {
     "name": "stdout",
     "output_type": "stream",
     "text": [
      "高校生：先生、情報の価値と検証についてもっと深く理解したいんですが、具体的な例を教えていただけますか？\n",
      "\n",
      "教師：もちろんだ。例えば、テニス部の練習メニューを作るとしよう。まず、使えるテニスコートの数と時間、部員の好みや能力、そして練習の効果や費用など、さまざまな情報を集める必要があるね。\n",
      "\n",
      "高校生：それらの情報を集めたら、どうやって価値を判断するんですか？\n",
      "\n",
      "教師：それぞれの情報を評価分析することで価値を見つける。例えば、特定の練習メニューが部員のスキル向上に効果的であるとか、あるいは費用対効果が高いとかね。その結果を基に、最適な練習メニューを作成する。\n",
      "\n",
      "高校生：なるほど、それで情報の価値を見つけるんですね。でも、その情報が正しいかどうかはどうやって確認するんですか？\n",
      "\n",
      "教師：それが情報の検証だ。例えば、作成した練習メニューを実際に実施してみて、その効果を確認する。もし予想と違う結果が出たら、情報の正確さを再評価する必要がある。それによって、情報の価値と検証のプロセスを理解することができるよ。\n"
     ]
    }
   ],
   "source": [
    "query = \"あなたは高校生向け問題作成のプロフェッショナルです。情報の模試を作成します。情報の価値と検証を題材に、高校生と教師の会話文を作成して欲しいです。ただし、高校生は教科書にある内容はすでに知っています。\"\n",
    "response = query_engine.query(query)\n",
    "print(response)"
   ]
  },
  {
   "cell_type": "code",
   "execution_count": null,
   "id": "546ad97d-dab1-471f-88a0-a99df601589c",
   "metadata": {},
   "outputs": [],
   "source": []
  }
 ],
 "metadata": {
  "kernelspec": {
   "display_name": "Python 3 (ipykernel)",
   "language": "python",
   "name": "python3"
  },
  "language_info": {
   "codemirror_mode": {
    "name": "ipython",
    "version": 3
   },
   "file_extension": ".py",
   "mimetype": "text/x-python",
   "name": "python",
   "nbconvert_exporter": "python",
   "pygments_lexer": "ipython3",
   "version": "3.11.4"
  }
 },
 "nbformat": 4,
 "nbformat_minor": 5
}
