{
 "cells": [
  {
   "cell_type": "code",
   "execution_count": 1,
   "id": "b1057821-a7d0-42e8-a496-e8d8bf01fdf3",
   "metadata": {
    "tags": []
   },
   "outputs": [],
   "source": [
    "import pandas as pd\n",
    "import numpy as np"
   ]
  },
  {
   "cell_type": "code",
   "execution_count": 19,
   "id": "07f1ca96-2dfc-493c-88f8-6abc092ced53",
   "metadata": {
    "tags": []
   },
   "outputs": [
    {
     "data": {
      "text/plain": [
       "[1, 2]"
      ]
     },
     "execution_count": 19,
     "metadata": {},
     "output_type": "execute_result"
    }
   ],
   "source": [
    "df = pd.DataFrame({\n",
    "    'city': ['osaka', 'osaka', 'osaka', 'osaka', 'tokyo', 'tokyo', 'tokyo'],\n",
    "    'food': ['apple', 'orange', 'banana', 'banana', 'apple', 'apple', 'banana'],\n",
    "    'price': [100, 200, 250, 300, 150, 200, 400],\n",
    "    'quantity': [1, 2, 3, 4, 5, 6, 7]\n",
    "})\n",
    "df\n",
    "A = [1,2]\n",
    "A[:]"
   ]
  },
  {
   "cell_type": "code",
   "execution_count": 17,
   "id": "8fd97ddd-f73c-4df8-bc82-eaf4b102bfaf",
   "metadata": {
    "tags": []
   },
   "outputs": [
    {
     "data": {
      "text/plain": [
       "city   food  \n",
       "osaka  apple     1\n",
       "       banana    2\n",
       "       orange    1\n",
       "tokyo  apple     2\n",
       "       banana    1\n",
       "Name: city, dtype: int64"
      ]
     },
     "execution_count": 17,
     "metadata": {},
     "output_type": "execute_result"
    }
   ],
   "source": [
    "df.groupby(['city','food'])['city'].count()"
   ]
  },
  {
   "cell_type": "code",
   "execution_count": 14,
   "id": "6df662cc-5a84-49a6-b03f-50681b6b7b76",
   "metadata": {},
   "outputs": [],
   "source": [
    "import openai\n",
    "import os\n",
    "import datetime\n",
    "dt = str(datetime.datetime.now()).split()[0]\n",
    "path =  \"log/\" + dt + \".log\"\n",
    "d_path = \"data/amound_tokens.log\"\n",
    "dt = datetime.datetime.now()"
   ]
  },
  {
   "cell_type": "code",
   "execution_count": 19,
   "id": "d06071f9-c60a-49fb-b1d9-2c629fb54aa4",
   "metadata": {
    "tags": []
   },
   "outputs": [
    {
     "name": "stdout",
     "output_type": "stream",
     "text": [
      "data/amount_tokens_2023_5.txt\n"
     ]
    }
   ],
   "source": [
    "d_path = \"data/amount_tokens_{０}_{1}.txt\".format(dt.year,dt.month)\n",
    "print(d_path)"
   ]
  },
  {
   "cell_type": "code",
   "execution_count": 4,
   "id": "71e66259-7720-42a2-8199-0a27cdc8e4c2",
   "metadata": {},
   "outputs": [],
   "source": [
    "A = 'student_placements'"
   ]
  },
  {
   "cell_type": "code",
   "execution_count": 6,
   "id": "df6504a5",
   "metadata": {},
   "outputs": [
    {
     "name": "stdout",
     "output_type": "stream",
     "text": [
      "     student_id gender  second_perc  high_perc high_spec  degree_perc  \\\n",
      "0         17264      M        67.00      91.00  Commerce        58.00   \n",
      "1         17265      M        79.33      78.33   Science        77.48   \n",
      "2         17266      M        65.00      68.00      Arts        64.00   \n",
      "3         17267      M        56.00      52.00   Science        52.00   \n",
      "4         17268      M        85.80      73.60  Commerce        73.30   \n",
      "..          ...    ...          ...        ...       ...          ...   \n",
      "210       17474      M        80.60      82.00  Commerce        77.60   \n",
      "211       17475      M        58.00      60.00   Science        72.00   \n",
      "212       17476      M        67.00      67.00  Commerce        73.00   \n",
      "213       17477      F        74.00      66.00  Commerce        58.00   \n",
      "214       17478      M        62.00      58.00   Science        53.00   \n",
      "\n",
      "    degree_type  work_experience  experience_years  employability_perc  \\\n",
      "0      Sci&Tech            False                 0                55.0   \n",
      "1      Sci&Tech             True                 1                86.5   \n",
      "2     Comm&Mgmt            False                 0                75.0   \n",
      "3      Sci&Tech            False                 0                66.0   \n",
      "4     Comm&Mgmt            False                 0                96.8   \n",
      "..          ...              ...               ...                 ...   \n",
      "210   Comm&Mgmt            False                 0                91.0   \n",
      "211    Sci&Tech            False                 0                74.0   \n",
      "212   Comm&Mgmt             True                 1                59.0   \n",
      "213   Comm&Mgmt            False                 0                70.0   \n",
      "214   Comm&Mgmt            False                 0                89.0   \n",
      "\n",
      "    mba_spec  mba_perc   salary  placed  start_date    end_date  duration  \n",
      "0     Mkt&HR     58.80  27000.0    True  2020-07-23  2020-10-12       3.0  \n",
      "1    Mkt&Fin     66.28  20000.0    True  2020-01-11  2020-04-09       3.0  \n",
      "2    Mkt&Fin     57.80  25000.0    True  2020-01-26  2020-07-13       6.0  \n",
      "3     Mkt&HR     59.43      NaN   False         NaN         NaN       NaN  \n",
      "4    Mkt&Fin     55.50  42500.0    True  2020-07-04  2020-09-27       3.0  \n",
      "..       ...       ...      ...     ...         ...         ...       ...  \n",
      "210  Mkt&Fin     74.49  40000.0    True  2020-07-27  2020-10-20       3.0  \n",
      "211  Mkt&Fin     53.62  27500.0    True  2020-01-23  2020-08-04       6.0  \n",
      "212  Mkt&Fin     69.72  29500.0    True  2020-01-25  2020-08-05       6.0  \n",
      "213   Mkt&HR     60.23  20400.0    True  2020-01-19  2020-04-20       3.0  \n",
      "214   Mkt&HR     60.22      NaN   False         NaN         NaN       NaN  \n",
      "\n",
      "[215 rows x 17 columns]\n"
     ]
    }
   ],
   "source": [
    "from sdv.datasets.demo import download_demo\n",
    "\n",
    "data, metadata = download_demo(\n",
    "    modality='single_table',\n",
    "    dataset_name=A\n",
    ")\n",
    "print(data)"
   ]
  },
  {
   "cell_type": "code",
   "execution_count": null,
   "id": "3a95f0f0",
   "metadata": {},
   "outputs": [],
   "source": []
  }
 ],
 "metadata": {
  "kernelspec": {
   "display_name": "Python 3 (ipykernel)",
   "language": "python",
   "name": "python3"
  },
  "language_info": {
   "codemirror_mode": {
    "name": "ipython",
    "version": 3
   },
   "file_extension": ".py",
   "mimetype": "text/x-python",
   "name": "python",
   "nbconvert_exporter": "python",
   "pygments_lexer": "ipython3",
   "version": "3.8.16"
  }
 },
 "nbformat": 4,
 "nbformat_minor": 5
}
