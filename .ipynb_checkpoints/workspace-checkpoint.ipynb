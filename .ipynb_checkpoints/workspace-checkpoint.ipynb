{
 "cells": [
  {
   "cell_type": "code",
   "execution_count": 53,
   "id": "9fd859f8-a08d-47b2-bf72-1dcc5f1cc364",
   "metadata": {
    "tags": []
   },
   "outputs": [
    {
     "data": {
      "application/vnd.jupyter.widget-view+json": {
       "model_id": "539238378fd94f4ea0d6a2bec231a109",
       "version_major": 2,
       "version_minor": 0
      },
      "text/plain": [
       "Textarea(value='')"
      ]
     },
     "metadata": {},
     "output_type": "display_data"
    }
   ],
   "source": [
    "from ipywidgets import Textarea\n",
    "import io\n",
    "\n",
    "if 'open' in globals():\n",
    "    del open\n",
    "if 'input' in globals():\n",
    "    del input\n",
    "\n",
    "original_open = open\n",
    "\n",
    "class custom_open():\n",
    "    def __init__(self):\n",
    "        self.text = ''\n",
    "\n",
    "    def __call__(self, file, *args, **kwargs):\n",
    "        if file == 0:\n",
    "            return io.StringIO(self.text)\n",
    "        return original_open(file, *args, **kwargs)\n",
    "\n",
    "    def updater(self, change):\n",
    "        self.text = change[\"new\"]\n",
    "\n",
    "class custom_input():\n",
    "    def __init__(self):\n",
    "        self.__sio = io.StringIO('')\n",
    "        self.shell = get_ipython()\n",
    "        if self.shell.events.callbacks['pre_run_cell'] != []:\n",
    "            self.shell.events.callbacks['pre_run_cell'] = []\n",
    "        self.shell.events.register('pre_run_cell', self.pre_run_cell)\n",
    "\n",
    "    def __call__(self):\n",
    "        return self.__sio.readline().strip()\n",
    "\n",
    "    def pre_run_cell(self, info):\n",
    "        text = self.shell.user_ns.get('text_area', None).value\n",
    "        self.__sio = io.StringIO(text)\n",
    "\n",
    "open = custom_open()\n",
    "input = custom_input()\n",
    "\n",
    "text_area = Textarea()\n",
    "text_area.observe(open.updater, names='value')\n",
    "display(text_area)"
   ]
  },
  {
   "cell_type": "code",
   "execution_count": 65,
   "id": "5d9ed73f-87e3-4786-ad24-6934727acfea",
   "metadata": {},
   "outputs": [
    {
     "name": "stdout",
     "output_type": "stream",
     "text": [
      "1110\n"
     ]
    }
   ],
   "source": [
    "import itertools\n",
    "from collections import defaultdict,deque\n",
    "N,M = map(int,input().split())\n",
    "G = defaultdict(list)\n",
    "dist = defaultdict(int)\n",
    "for _ in range(M):\n",
    "    a,b,c = map(int,input().split())\n",
    "    a -= 1; b -= 1\n",
    "    G[a].append(b)\n",
    "    G[b].append(a)\n",
    "    dist[(a,b)] = c\n",
    "    dist[(b,a)] = c\n",
    "ans = 0\n",
    "for p in itertools.permutations(range(N),M):\n",
    "    cnt = 0\n",
    "    for i,x in enumerate(p):\n",
    "        if i != N-1:\n",
    "            y = p[i+1]\n",
    "            if y not in G[x]:\n",
    "                cnt = 0\n",
    "                break\n",
    "            else:\n",
    "                cnt += dist[(x,y)]\n",
    "    ans = max(ans,cnt)\n",
    "print(ans)"
   ]
  },
  {
   "cell_type": "code",
   "execution_count": 52,
   "id": "cee38bcc-30ac-48be-8a6f-33c86e809166",
   "metadata": {
    "tags": []
   },
   "outputs": [
    {
     "name": "stdout",
     "output_type": "stream",
     "text": [
      "15\n"
     ]
    }
   ],
   "source": []
  },
  {
   "cell_type": "code",
   "execution_count": null,
   "id": "62195a1c-cf73-4c0b-ad10-72a70b5d901e",
   "metadata": {},
   "outputs": [],
   "source": [
    "for x in alp:\n",
    "    print(x,myord(x))"
   ]
  },
  {
   "cell_type": "code",
   "execution_count": null,
   "id": "a7532546-1969-4657-8840-47e0d77ac2fa",
   "metadata": {},
   "outputs": [],
   "source": []
  }
 ],
 "metadata": {
  "kernelspec": {
   "display_name": "Python 3 (ipykernel)",
   "language": "python",
   "name": "python3"
  },
  "language_info": {
   "codemirror_mode": {
    "name": "ipython",
    "version": 3
   },
   "file_extension": ".py",
   "mimetype": "text/x-python",
   "name": "python",
   "nbconvert_exporter": "python",
   "pygments_lexer": "ipython3",
   "version": "3.11.4"
  }
 },
 "nbformat": 4,
 "nbformat_minor": 5
}
